{
 "cells": [
  {
   "cell_type": "code",
   "execution_count": 19,
   "metadata": {},
   "outputs": [],
   "source": [
    "import pyprismatic as pr\n",
    "from pyprismatic.fileio import readMRC"
   ]
  },
  {
   "cell_type": "code",
   "execution_count": 18,
   "metadata": {},
   "outputs": [],
   "source": [
    "with open('temp.XYZ', 'w') as fid:\n",
    "    fid.write(\"one unit cell of 100 silicon\\n\\\n",
    "  5.43    5.43    5.43\\n\\\n",
    "14  0.0000  0.0000  0.0000  1.0  0.076\\n\\\n",
    "14  2.7150  2.7150  0.0000  1.0  0.076\\n\\\n",
    "14  1.3575  4.0725  1.3575  1.0  0.076\\n\\\n",
    "14  4.0725  1.3575  1.3575  1.0  0.076\\n\\\n",
    "14  2.7150  0.0000  2.7150  1.0  0.076\\n\\\n",
    "14  0.0000  2.7150  2.7150  1.0  0.076\\n\\\n",
    "14  1.3575  1.3575  4.0725  1.0  0.076\\n\\\n",
    "14  4.0725  4.0725  4.0725  1.0  0.076\\n\\\n",
    "-1\")"
   ]
  },
  {
   "cell_type": "code",
   "execution_count": null,
   "metadata": {},
   "outputs": [],
   "source": [
    "meta = pr.Metadata(filenameAtoms='temp.XYZ',\n",
    "                 filenameOutput='output.mrc')\n",
    "meta.algorithm = 'multislice'\n",
    "meta.go()\n",
    "import numpy as np\n",
    "\n",
    "import matplotlib.pyplot as plt\n",
    "result = readMRC(\"output.mrc\")\n",
    "plt.figure()\n",
    "plt.imshow(np.squeeze(np.sum(result,axis=2)))\n",
    "plt.show()"
   ]
  }
 ],
 "metadata": {
  "kernelspec": {
   "display_name": "Python 3",
   "language": "python",
   "name": "python3"
  },
  "language_info": {
   "codemirror_mode": {
    "name": "ipython",
    "version": 3
   },
   "file_extension": ".py",
   "mimetype": "text/x-python",
   "name": "python",
   "nbconvert_exporter": "python",
   "pygments_lexer": "ipython3",
   "version": "3.7.6"
  }
 },
 "nbformat": 4,
 "nbformat_minor": 4
}
